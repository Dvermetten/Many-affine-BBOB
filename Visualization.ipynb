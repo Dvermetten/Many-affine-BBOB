{
 "cells": [
  {
   "cell_type": "markdown",
   "id": "2c1da187-adde-45b1-b4b5-bb02222df68b",
   "metadata": {},
   "source": [
    "Start: required imports"
   ]
  },
  {
   "cell_type": "code",
   "execution_count": null,
   "id": "ccaebd95-5e46-43cb-b848-eeb67a8cc21f",
   "metadata": {},
   "outputs": [],
   "source": [
    "import numpy as np\n",
    "import pickle\n",
    "import pandas as pd\n",
    "from functools import partial\n",
    "import glob\n",
    "import seaborn as sbs\n",
    "import matplotlib.pyplot as plt\n",
    "import ioh\n",
    "\n",
    "from scipy.stats import kendalltau, rankdata\n",
    "\n",
    "font = {'size'   : 24}\n",
    "\n",
    "plt.rc('font', **font)\n",
    "from mpl_toolkits.axes_grid1 import make_axes_locatable\n",
    "#Font-requirement for GECCO\n",
    "import matplotlib\n",
    "matplotlib.rcParams['pdf.fonttype'] = 42\n",
    "matplotlib.rcParams['ps.fonttype'] = 42"
   ]
  },
  {
   "cell_type": "code",
   "execution_count": null,
   "id": "8b784f89-54ee-4adf-a498-65cba55a5cda",
   "metadata": {},
   "outputs": [],
   "source": [
    "from umap import UMAP"
   ]
  },
  {
   "cell_type": "code",
   "execution_count": null,
   "id": "9d64e54c-8f83-45b0-a888-45c915b98887",
   "metadata": {},
   "outputs": [],
   "source": [
    "from copy import copy"
   ]
  },
  {
   "cell_type": "markdown",
   "id": "c5433e9e-4258-4f92-a025-b8e08d071b63",
   "metadata": {
    "tags": []
   },
   "source": [
    "### Calculate scale factors"
   ]
  },
  {
   "cell_type": "markdown",
   "id": "fc048d99-3d1a-403a-9fc3-1d37e9268ed9",
   "metadata": {},
   "source": [
    "Perform random sampling on all functions to determine possible scale-factors"
   ]
  },
  {
   "cell_type": "code",
   "execution_count": null,
   "id": "c9d11fd4-f7df-4702-95ce-514865011fe4",
   "metadata": {},
   "outputs": [],
   "source": [
    "np.random.seed(42)\n",
    "max_vals = np.zeros((24,39))\n",
    "mean_vals = np.zeros((24,39))\n",
    "min_vals = np.zeros((24,39))\n",
    "for dim in range(2,41):\n",
    "    x_temp = np.random.uniform(low=-5,high=5, size=(50000,dim))\n",
    "    for fid in range(1,25):\n",
    "        f = ioh.get_problem(fid, instance=1, dimension=dim)\n",
    "        vals = np.array([f(x) for x in x_temp])\n",
    "        max_vals[fid-1, dim-2] = np.max(vals) - f.optimum.y\n",
    "        mean_vals[fid-1, dim-2] = 10**np.mean(np.log10(np.clip(vals - f.optimum.y, 1e-10,1e20)))\n",
    "        min_vals[fid-1, dim-2] = np.min(vals) - f.optimum.y\n",
    " "
   ]
  },
  {
   "cell_type": "markdown",
   "id": "ac36b5ca-752a-4dc8-81e8-71cc377a3391",
   "metadata": {},
   "source": [
    "Make sure taking log doesn't result in NA"
   ]
  },
  {
   "cell_type": "code",
   "execution_count": null,
   "id": "118d5faf-33e9-4b3f-8210-d14fcbba364b",
   "metadata": {},
   "outputs": [],
   "source": [
    "min_vals = np.clip(min_vals, 1e-12, 1e20)"
   ]
  },
  {
   "cell_type": "markdown",
   "id": "464fb514-e31c-49d7-b7cb-9ffd2d117b94",
   "metadata": {},
   "source": [
    "Plot the scale factors"
   ]
  },
  {
   "cell_type": "code",
   "execution_count": null,
   "id": "ee99e685-dc31-49af-8083-b20765dec09d",
   "metadata": {},
   "outputs": [],
   "source": [
    "sf_temp = (np.log10(min_vals)+np.log10(mean_vals) / 2)+8"
   ]
  },
  {
   "cell_type": "code",
   "execution_count": null,
   "id": "9e476cca-6436-4f8e-8027-8fb0132a1687",
   "metadata": {},
   "outputs": [],
   "source": [
    "dt_sf = pd.DataFrame(sf_temp)"
   ]
  },
  {
   "cell_type": "code",
   "execution_count": null,
   "id": "853a98b5-a364-4ac4-a5e5-363a5987ed3e",
   "metadata": {},
   "outputs": [],
   "source": [
    "dt_sf['fid'] = range(1,25)"
   ]
  },
  {
   "cell_type": "code",
   "execution_count": null,
   "id": "3f966d3f-4d5d-46fc-949b-71d6c282ec24",
   "metadata": {},
   "outputs": [],
   "source": [
    "dt_plot = dt_sf.melt(id_vars=['fid'])"
   ]
  },
  {
   "cell_type": "code",
   "execution_count": null,
   "id": "e03ac4d2-5ed5-4cd3-acf6-f4d1a3cbbba9",
   "metadata": {},
   "outputs": [],
   "source": [
    "plt.figure(figsize=(16,7))\n",
    "sbs.lineplot(dt_plot, x='variable', y='value', hue='fid', palette='viridis', legend=False)\n",
    "plt.xlabel(\"Dimension\")\n",
    "plt.xticks([0,3,8,13,18,23,28,33,38], np.array([0,3,8,13,18,23,28,33,38])+2)\n",
    "plt.ylabel(\"Log f(x)\")\n",
    "plt.tight_layout()\n",
    "plt.savefig(\"Figures/Scale_factors.pdf\")"
   ]
  },
  {
   "cell_type": "code",
   "execution_count": null,
   "id": "6d5d258c-8803-4ac0-ac70-07ef0412cf93",
   "metadata": {},
   "outputs": [],
   "source": [
    "scale_factors = (np.log10(min_vals)+np.log10(mean_vals) / 2)+8"
   ]
  },
  {
   "cell_type": "code",
   "execution_count": null,
   "id": "48aa2742-f570-497a-8898-9c6ac6c20a40",
   "metadata": {},
   "outputs": [],
   "source": [
    "scale_factors_rounded = np.round(np.median(scale_factors,axis=1), 1)"
   ]
  },
  {
   "cell_type": "markdown",
   "id": "0f11ae50-6090-47e1-bf86-d1c11cf87d02",
   "metadata": {
    "tags": []
   },
   "source": [
    "## Main function class"
   ]
  },
  {
   "cell_type": "markdown",
   "id": "c06265c4-fd95-4a69-ac41-30aa0a026108",
   "metadata": {},
   "source": [
    "Make use of the scale-factors above and implement the function generator"
   ]
  },
  {
   "cell_type": "code",
   "execution_count": null,
   "id": "dfc78307-a8ba-4a10-b27d-2c3443adbcc3",
   "metadata": {},
   "outputs": [],
   "source": [
    "scale_factors = [11. , 17.5, 12.3, 12.6, 11.5, 15.3, 12.1, 15.3, 15.2, 17.4, 13.4,\n",
    "       20.4, 12.9, 10.4, 12.3, 10.3,  9.8, 10.6, 10. , 14.7, 10.7, 10.8,\n",
    "        9. , 12.1]"
   ]
  },
  {
   "cell_type": "code",
   "execution_count": null,
   "id": "0983a21c-67b4-4503-88a5-9a82f7a28dbd",
   "metadata": {},
   "outputs": [],
   "source": [
    "class ManyAffine():\n",
    "    def __init__(self, weights, instances, opt_loc=1, dim = 5, sf_type = 'hc'):\n",
    "        self.weights = weights / np.sum(weights)\n",
    "        self.fcts = [ioh.get_problem(fid, int(iid), dim) for fid, iid in zip(range(1,25), instances)]\n",
    "        self.opts = [f.optimum.y for f in self.fcts]\n",
    "        if sf_type == 'hc':\n",
    "            self.scale_factors = scale_factors\n",
    "        elif sf_type == 'mean':\n",
    "            self.scale_factors = np.log10(mean_vals[:,dim-2])+8\n",
    "        elif sf_type == 'max':\n",
    "            self.scale_factors = np.log10(max_vals[:,dim-2])+8\n",
    "        elif sf_type == 'min':\n",
    "            self.scale_factors = np.log10(min_vals[:,dim-2])+8\n",
    "        elif sf_type == 'min_max':\n",
    "            self.scale_factors = (np.log10(min_vals[:,dim-2])+np.log10(mean_vals[:,dim-1]) / 2)+8\n",
    "        else:\n",
    "            self.scale_factors = np.ones(24)*10\n",
    "        if type(opt_loc) == int:\n",
    "            self.opt_x = self.fcts[opt_loc].optimum.x\n",
    "        else:\n",
    "            self.opt_x = opt_loc\n",
    "\n",
    "    def __call__(self, x):\n",
    "        raw_vals = np.array([ np.clip(f(x+f.optimum.x - self.opt_x)-o,1e-12,1e20) for f, o in zip(self.fcts, self.opts)])\n",
    "        weighted = (np.log10(raw_vals)+8)/self.scale_factors * self.weights\n",
    "        return 10**(10*np.sum(weighted)-8)"
   ]
  },
  {
   "cell_type": "markdown",
   "id": "256796d0-76da-4c1d-b8e1-a47263e40dc0",
   "metadata": {
    "tags": []
   },
   "source": [
    "## Visualizations of 2D landscapes"
   ]
  },
  {
   "cell_type": "code",
   "execution_count": null,
   "id": "1a71cf7c-1a1d-4139-af99-feb2263c9edc",
   "metadata": {},
   "outputs": [],
   "source": [
    "def create_vary_normalization(seed = None):\n",
    "    dim = 2\n",
    "    X, Y = np.meshgrid(np.arange(-5,5,0.1), np.arange(-5,5,0.1))\n",
    "    Z = np.zeros(X.shape)\n",
    "    \n",
    "    fig, axs = plt.subplots(1,5, sharey=True, sharex=True, figsize=(32,9),\n",
    "                        gridspec_kw={'hspace': 0, 'wspace': 0})\n",
    "    if seed is not None:\n",
    "        np.random.seed(seed)\n",
    "    weights = np.clip(np.random.uniform(size=24, low=-1),0,1)\n",
    "    iids = np.random.randint(1,100, size=24)\n",
    "    opt_loc = np.random.uniform(size=(5,2), low=-5, high=5)\n",
    "    sf_methods = ['mean', 'max', 'minmax', 'min', 'equal']\n",
    "    for idx, ax in enumerate(axs):\n",
    "        f_new = ManyAffine(weights, iids, opt_loc[1,:], dim=2, sf_type=sf_methods[idx])\n",
    "        \n",
    "        for idx1 in range(100):\n",
    "            for idx2 in range(100):\n",
    "                Z[idx1, idx2] = np.log10(f_new([X[idx1, idx2], Y[idx1, idx2]]))\n",
    "        im = ax.contourf(X, Y, Z, 40, vmin = -4, vmax = 4);\n",
    "        \n",
    "        ax.scatter(f_new.opt_x[0], f_new.opt_x[1], c='r', s=25, linewidths=25, alpha=0.5)\n",
    "        ax.set_xlabel(sf_methods[idx])\n",
    "\n",
    "\n",
    "        if idx == 4:\n",
    "            divider = make_axes_locatable(ax)\n",
    "            cax = divider.append_axes('right', size='5%', pad=0.05)\n",
    "            fig.colorbar(im, cax=cax, orientation='vertical')\n",
    "\n",
    "    plt.tight_layout()\n",
    "    plt.savefig(f\"Figures/Example_scalefactors_S{seed}.pdf\")\n",
    "    plt.show()"
   ]
  },
  {
   "cell_type": "code",
   "execution_count": null,
   "id": "b1f7984e-fa63-4951-b9eb-e02cfa8527d9",
   "metadata": {},
   "outputs": [],
   "source": [
    "def create_vary_instance(seed = None):\n",
    "    dim = 2\n",
    "    X, Y = np.meshgrid(np.arange(-5,5,0.1), np.arange(-5,5,0.1))\n",
    "    Z = np.zeros(X.shape)\n",
    "    \n",
    "    fig, axs = plt.subplots(1,5, sharey=True, sharex=True, figsize=(32,9),\n",
    "                        gridspec_kw={'hspace': 0, 'wspace': 0})\n",
    "    if seed is not None:\n",
    "        np.random.seed(seed)\n",
    "    weights = np.clip(np.random.uniform(size=24, low=-1),0,1)\n",
    "    iids = np.random.randint(1,100, size=24)\n",
    "    opt_loc = np.random.uniform(size=(5,2), low=-5, high=5)\n",
    "    for idx, ax in enumerate(axs):\n",
    "        f_new = ManyAffine(weights, iids, opt_loc[idx,:], dim=2)\n",
    "        \n",
    "        for idx1 in range(100):\n",
    "            for idx2 in range(100):\n",
    "                Z[idx1, idx2] = np.log10(f_new([X[idx1, idx2], Y[idx1, idx2]]))\n",
    "        im = ax.contourf(X, Y, Z, 40, vmin = -4, vmax = 4);\n",
    "        \n",
    "        ax.scatter(f_new.opt_x[0], f_new.opt_x[1], c='r', s=25, linewidths=25, alpha=0.5)\n",
    "\n",
    "        if idx == 4:\n",
    "            divider = make_axes_locatable(ax)\n",
    "            cax = divider.append_axes('right', size='5%', pad=0.05)\n",
    "            fig.colorbar(im, cax=cax, orientation='vertical')\n",
    "\n",
    "    plt.tight_layout()\n",
    "    plt.savefig(f\"Figures/Example_opt_loc_S{seed}.pdf\")\n",
    "    plt.show()"
   ]
  },
  {
   "cell_type": "code",
   "execution_count": null,
   "id": "67112dc9-810d-4744-832f-7a7bb79923d9",
   "metadata": {},
   "outputs": [],
   "source": [
    "for s in range(10):\n",
    "    create_vary_instance(s)"
   ]
  },
  {
   "cell_type": "code",
   "execution_count": null,
   "id": "193737f8-06e5-4ba9-a941-7311420d40cf",
   "metadata": {},
   "outputs": [],
   "source": [
    "for s in range(10):\n",
    "    create_vary_normalization(s)"
   ]
  },
  {
   "cell_type": "code",
   "execution_count": null,
   "id": "a9a587d8-b2cb-4bad-b48b-80885a733d3e",
   "metadata": {},
   "outputs": [],
   "source": [
    "def create_vary_sampling(seed = None):\n",
    "    dim = 2\n",
    "    X, Y = np.meshgrid(np.arange(-5,5,0.1), np.arange(-5,5,0.1))\n",
    "    Z = np.zeros(X.shape)\n",
    "    \n",
    "    fig, axs = plt.subplots(1,5, sharey=True, sharex=True, figsize=(32,9),\n",
    "                        gridspec_kw={'hspace': 0, 'wspace': 0})\n",
    "    if seed is not None:\n",
    "        np.random.seed(seed)\n",
    "    weights = np.clip(np.random.uniform(size=24, low=0),0,1)\n",
    "    iids = np.random.randint(1,100, size=24)\n",
    "    opt_loc = np.random.uniform(size=(5,2), low=-5, high=5)\n",
    "    sf_methods = ['mean', 'min', 'max', 'minmax', 'equal']\n",
    "    thresholds = [0,0.4,0.55,0.7,0.85]\n",
    "    for idx, ax in enumerate(axs):\n",
    "        weights_new = np.zeros(24)\n",
    "        weights_new[weights>=thresholds[idx]] = weights[weights>=thresholds[idx]]-thresholds[idx]\n",
    "        \n",
    "        f_new = ManyAffine(weights_new, iids, opt_loc[1,:], dim=2)#, sf_type=sf_methods[idx])\n",
    "        \n",
    "        for idx1 in range(100):\n",
    "            for idx2 in range(100):\n",
    "                Z[idx1, idx2] = np.log10(f_new([X[idx1, idx2], Y[idx1, idx2]]))\n",
    "        im = ax.contourf(X, Y, Z, 40, vmin = -4, vmax = 4);\n",
    "        \n",
    "        ax.scatter(f_new.opt_x[0], f_new.opt_x[1], c='r', s=25, linewidths=25, alpha=0.5)\n",
    "        ax.set_xlabel(f\"T={thresholds[idx]}\")\n",
    "\n",
    "\n",
    "        if idx == 4:\n",
    "            divider = make_axes_locatable(ax)\n",
    "            cax = divider.append_axes('right', size='5%', pad=0.05)\n",
    "            fig.colorbar(im, cax=cax, orientation='vertical')\n",
    "\n",
    "    plt.tight_layout()\n",
    "    plt.savefig(f\"Figures/Example_weightsampling_S{seed}.pdf\")\n",
    "    plt.show()"
   ]
  },
  {
   "cell_type": "code",
   "execution_count": null,
   "id": "384e3195-7edc-4ef4-b7ce-f23f1f1bc849",
   "metadata": {},
   "outputs": [],
   "source": [
    "for s in range(10):\n",
    "    create_vary_sampling(s)"
   ]
  },
  {
   "cell_type": "code",
   "execution_count": null,
   "id": "d1b71cf1-7c79-4e03-9509-28adaf022e52",
   "metadata": {},
   "outputs": [],
   "source": [
    "def create_opt_loc_plot(seed=None):\n",
    "    opts = np.zeros((1000,2))\n",
    "    if seed is not None:\n",
    "        np.random.seed(seed)\n",
    "    for i in range(1000):\n",
    "        weights = np.clip(np.random.uniform(size=24, low=0),0,1)\n",
    "        iids = np.random.randint(1,100, size=24)\n",
    "        opt_loc = np.random.randint(24)\n",
    "        f_new = ManyAffine(weights, iids, opt_loc, dim=2)\n",
    "        opts[i] = f_new.opt_x\n",
    "\n",
    "    plt.figure(figsize=(12,12))\n",
    "    plt.scatter(opts[:,0],opts[:,1], s=100)\n",
    "    plt.axhline(-4)\n",
    "    plt.axhline(4)\n",
    "    plt.axvline(4)\n",
    "    plt.axvline(-4)\n",
    "    plt.axhline(-5, c='r')\n",
    "    plt.axhline(5, c='r')\n",
    "    plt.axvline(5, c='r')\n",
    "    plt.axvline(-5, c='r')\n",
    "    plt.xticks([-5,-4,-2,0,2,4,5])\n",
    "    plt.yticks([-5,-4,-2,0,2,4,5])\n",
    "    plt.grid()\n",
    "    plt.tight_layout()\n",
    "    plt.savefig(f\"Figures/opt_loc_2D.pdf\")\n",
    "    "
   ]
  },
  {
   "cell_type": "code",
   "execution_count": null,
   "id": "6ef3bae5-cd1f-481d-8a29-f5c7463aafac",
   "metadata": {},
   "outputs": [],
   "source": [
    "create_opt_loc_plot()"
   ]
  },
  {
   "cell_type": "markdown",
   "id": "3ac1004d-12e6-4545-8116-5967f4b1a774",
   "metadata": {
    "tags": []
   },
   "source": [
    "## ELA calculation"
   ]
  },
  {
   "cell_type": "code",
   "execution_count": null,
   "id": "13d230de-689a-4029-a2f6-a02ec8e7ae13",
   "metadata": {},
   "outputs": [],
   "source": [
    "dt_ela = pd.DataFrame()\n",
    "for f in glob.glob(\"/mnt/d/Many_Affine/ELA2/*\"):\n",
    "    dt_temp = pd.read_csv(f, index_col=0)\n",
    "    dt_temp = pd.DataFrame(dt_temp.mean()).transpose()\n",
    "    basename = f.split('/')[-1][:-4]\n",
    "    if basename.startswith('F'):\n",
    "        dt_temp['kind'] = 'BBOB'\n",
    "    else:\n",
    "        dt_temp['kind'] = 'Affine'\n",
    "    dt_temp['dim'] = int(basename.split('_')[-1][:-1])\n",
    "    dt_temp['fid'] = f.split('/')[-1][:-4]\n",
    "    dt_ela = dt_ela.append(dt_temp)"
   ]
  },
  {
   "cell_type": "code",
   "execution_count": null,
   "id": "272a3764-88f4-43e0-b005-63382fa35d62",
   "metadata": {},
   "outputs": [],
   "source": [
    "dt_ela.to_csv(\"full_ela_5ids.csv\")"
   ]
  },
  {
   "cell_type": "markdown",
   "id": "24d6b47a-17c5-4227-88c5-6507adad5e8a",
   "metadata": {
    "tags": []
   },
   "source": [
    "## Setup performance data collection"
   ]
  },
  {
   "cell_type": "markdown",
   "id": "ebc0d195-472b-46d2-9699-d8b55dbad95a",
   "metadata": {},
   "source": [
    "This part determines the used settings for the tested functions"
   ]
  },
  {
   "cell_type": "code",
   "execution_count": null,
   "id": "fefee2b1-baed-41ed-8e60-0cba7d7dcc27",
   "metadata": {},
   "outputs": [],
   "source": [
    "np.random.seed(42)"
   ]
  },
  {
   "cell_type": "code",
   "execution_count": null,
   "id": "ff7733f9-5bea-42b4-964b-f921877d1dd5",
   "metadata": {},
   "outputs": [],
   "source": [
    "weights = np.random.uniform(size=(1000, 24))"
   ]
  },
  {
   "cell_type": "code",
   "execution_count": null,
   "id": "3b89c82f-4646-45ed-8be8-350c9aa9aff9",
   "metadata": {},
   "outputs": [],
   "source": [
    "for idx, w in enumerate(weights):\n",
    "    threshold = np.min([0.85, np.sort(w)[-3]])\n",
    "    w[w<threshold] = 0\n",
    "    w[w>=threshold] = w[w>=threshold]-threshold\n",
    "    weights[idx] = w/np.sum(w)"
   ]
  },
  {
   "cell_type": "code",
   "execution_count": null,
   "id": "a4b665a1-d910-4d79-8837-09bef0a99a96",
   "metadata": {},
   "outputs": [],
   "source": [
    "pd.DataFrame(weights).to_csv(\"weights.csv\")"
   ]
  },
  {
   "cell_type": "code",
   "execution_count": null,
   "id": "d714728a-2f52-497e-8ee3-b8ddb1d05b5b",
   "metadata": {},
   "outputs": [],
   "source": [
    "iids = np.random.randint(1,100, size=(1000,24))"
   ]
  },
  {
   "cell_type": "code",
   "execution_count": null,
   "id": "90466022-f5b4-4228-ac64-a878121419e6",
   "metadata": {},
   "outputs": [],
   "source": [
    "pd.DataFrame(iids).to_csv(\"iids.csv\")"
   ]
  },
  {
   "cell_type": "code",
   "execution_count": null,
   "id": "a13ad936-4bbf-437c-87fd-d1dc18fc1ca9",
   "metadata": {},
   "outputs": [],
   "source": [
    "opt_locs = np.random.uniform(size=(1000, 5), low=-5, high=5)"
   ]
  },
  {
   "cell_type": "code",
   "execution_count": null,
   "id": "65f94ffd-2463-414e-9adc-8176921af1be",
   "metadata": {},
   "outputs": [],
   "source": [
    "np.array(pd.DataFrame(opt_locs).iloc[0])"
   ]
  },
  {
   "cell_type": "code",
   "execution_count": null,
   "id": "d74df347-950c-46b9-a60c-944df4b4c61f",
   "metadata": {},
   "outputs": [],
   "source": [
    "pd.DataFrame(opt_locs).to_csv(\"opt_locs.csv\")"
   ]
  },
  {
   "cell_type": "markdown",
   "id": "aeda7e01-3f71-4469-a5d7-d9a0feb0c342",
   "metadata": {
    "tags": []
   },
   "source": [
    "## Analysis of performance"
   ]
  },
  {
   "cell_type": "code",
   "execution_count": null,
   "id": "c4efa9b9-cf49-48c6-807b-15318f4fafda",
   "metadata": {},
   "outputs": [],
   "source": [
    "dt_perf = pd.DataFrame()\n",
    "for f in glob.glob(\"/mnt/d/Many_Affine/csv/auc/*\"):\n",
    "    dt_temp = pd.read_csv(f, index_col=0)\n",
    "    basename = f.split('/')[-1][:-4]\n",
    "    if basename.startswith('F'):\n",
    "        dt_temp['kind'] = 'BBOB'\n",
    "        dt_temp['fid'] = int(basename.split('_')[0][1:])\n",
    "        dt_temp['iid'] = int(basename.split('_')[1][1:])\n",
    "    else:\n",
    "        dt_temp['kind'] = 'Affine'\n",
    "        dt_temp['fid'] = int(basename.split('_')[0])\n",
    "        dt_temp['iid'] = 0\n",
    "    dt_temp['dim'] = int(basename.split('_')[-1][:-1])\n",
    "#     dt_temp['fid'] = f.split('/')[-1][:-4]\n",
    "    dt_perf = dt_perf.append(dt_temp.tail(1))"
   ]
  },
  {
   "cell_type": "code",
   "execution_count": null,
   "id": "bf5f5ef4-3a58-42fb-808a-7d09cb800ea3",
   "metadata": {},
   "outputs": [],
   "source": [
    "dt_perf.to_csv(\"auc_performance.csv\")"
   ]
  },
  {
   "cell_type": "code",
   "execution_count": null,
   "id": "ff7c699f-46cc-4af5-8580-fe5f714c9bf0",
   "metadata": {},
   "outputs": [],
   "source": [
    "dt_perf2d = dt_perf[(dt_perf['dim'] == 5)]"
   ]
  },
  {
   "cell_type": "code",
   "execution_count": null,
   "id": "3e2b0397-2f00-4dc0-a15f-087102a32f9c",
   "metadata": {},
   "outputs": [],
   "source": [
    "dt_ranks = pd.DataFrame()\n",
    "for r in range(1,6):\n",
    "    dt_best = dt_perf2d.sort_values('auc', ascending=False).groupby(['kind', 'fid', 'iid']).apply(pd.DataFrame.head, n=r).reset_index(drop=True)\n",
    "    dt_second = dt_best.groupby(['kind', 'fid', 'iid']).apply(pd.DataFrame.tail, n=1).reset_index(drop=True)\n",
    "    dt_second['rank'] = r\n",
    "    dt_ranks = dt_ranks.append(dt_second)"
   ]
  },
  {
   "cell_type": "code",
   "execution_count": null,
   "id": "b1b9d5db-d0a0-4ce7-b9a3-b0e6267f71fb",
   "metadata": {},
   "outputs": [],
   "source": [
    "for kind in ['BBOB', 'Affine']:\n",
    "    plt.figure(figsize=(16,9))\n",
    "    ax = sbs.histplot(data=dt_ranks[dt_ranks['kind'] == kind].sort_values('ID'), x=\"rank\", hue=\"ID\", multiple=\"stack\", discrete=True, stat='proportion')\n",
    "    sbs.move_legend(ax, 'upper center', ncol=3, bbox_to_anchor=(0.5,1.3), title='Algorithm Name')\n",
    "    plt.yticks(np.arange(0,0.21,0.02), [f\"{x:.1f}\" for x in np.arange(0,0.21,0.02)*5])\n",
    "    plt.ylim(0,0.2)\n",
    "    plt.xlabel(\"AUC-based rank\")\n",
    "    plt.tight_layout()\n",
    "    plt.savefig(f\"Figures/Alg_rank_auc_{kind}_5D.pdf\")"
   ]
  },
  {
   "cell_type": "code",
   "execution_count": null,
   "id": "b758825b-2935-4dff-969e-71c614568186",
   "metadata": {},
   "outputs": [],
   "source": [
    "fig, axs = plt.subplots(1, 2, figsize=(16,9), sharey=True)\n",
    "kinds = ['BBOB', 'Affine']\n",
    "for idx, ax in enumerate(axs.flatten()):\n",
    "    sbs.histplot(ax=ax, data=dt_ranks[dt_ranks['kind'] == kinds[idx]].sort_values('ID'), x=\"rank\", hue=\"ID\", multiple=\"stack\", discrete=True, stat='proportion', legend=(idx == 1))\n",
    "    # if idx == 1:\n",
    "        # sbs.move_legend(ax, 'lower center', ncol=3, bbox_to_anchor=(0,1), title='Algorithm Name')\n",
    "    ax.set_yticks(np.arange(0,0.21,0.02), [f\"{x:.1f}\" for x in np.arange(0,0.21,0.02)*5])\n",
    "    ax.set_xticks(range(1,6), range(1,6), fontsize=34)\n",
    "    ax.set_ylim(0,0.2)\n",
    "    ax.set_xlim(0.5,5.5)\n",
    "\n",
    "    ax.set_xlabel(f\"Rank ({kinds[idx]})\", fontsize=40)\n",
    "    ax.set_ylabel(\"Proportion\", fontsize=40)\n",
    "plt.tight_layout()\n",
    "plt.savefig(f\"Figures/Alg_rank_auc_both_5D.pdf\")"
   ]
  },
  {
   "cell_type": "markdown",
   "id": "650b3677-9a79-4d3b-b606-55a8ec631a02",
   "metadata": {},
   "source": [
    "# Merging data"
   ]
  },
  {
   "cell_type": "markdown",
   "id": "6c34801e-f5a2-47b3-929b-e1a1b207432f",
   "metadata": {
    "tags": []
   },
   "source": [
    "### Merging"
   ]
  },
  {
   "cell_type": "markdown",
   "id": "98647f85-e9e6-48e4-aa7d-ae5730bd9273",
   "metadata": {},
   "source": [
    "Full dataframe containing:\n",
    "- function identifier\n",
    "- ELA features\n",
    "- weights used to create the function\n",
    "- location of optima used\n",
    "- instance numbers used\n",
    "- auc performance after max budget (for each of 5 algorithms)"
   ]
  },
  {
   "cell_type": "code",
   "execution_count": null,
   "id": "01330dc1-7e34-4dfe-b560-3b3030cb4e81",
   "metadata": {},
   "outputs": [],
   "source": [
    "weights = pd.read_csv(\"weights.csv\", index_col=0)"
   ]
  },
  {
   "cell_type": "code",
   "execution_count": null,
   "id": "4b96db2f-1857-470e-a514-a4b069c332f4",
   "metadata": {},
   "outputs": [],
   "source": [
    "opt_locs = pd.read_csv(\"opt_locs.csv\", index_col=0)"
   ]
  },
  {
   "cell_type": "code",
   "execution_count": null,
   "id": "fec24af7-b78f-4dd5-98a3-ca910881952e",
   "metadata": {},
   "outputs": [],
   "source": [
    "iids = pd.read_csv(\"iids.csv\", index_col=0)"
   ]
  },
  {
   "cell_type": "code",
   "execution_count": null,
   "id": "06f9f943-f154-471f-aee2-faced94f38b5",
   "metadata": {},
   "outputs": [],
   "source": [
    "dt_ela = pd.read_csv(\"full_ela_5ids.csv\", index_col=0)"
   ]
  },
  {
   "cell_type": "code",
   "execution_count": null,
   "id": "7c907c36-4e6a-4c31-a542-870624d7cd18",
   "metadata": {},
   "outputs": [],
   "source": [
    "dt_perf = pd.read_csv(\"auc_performance.csv\", index_col=0)"
   ]
  },
  {
   "cell_type": "code",
   "execution_count": null,
   "id": "7e315a29-72ee-4d0b-89ae-50946ad7c78f",
   "metadata": {},
   "outputs": [],
   "source": [
    "def get_all_info_affine(fid, dim):\n",
    "    ela_dict = dict(dt_ela[dt_ela['fid'] == f\"{fid}_{dim}D\"][relevant_columns].iloc[0])\n",
    "    weight_dict = {f'W{idx}' : x for idx, x in enumerate(weights.iloc[fid])}\n",
    "    iid_values = {f'I{idx}' : x for idx, x in enumerate(iids.iloc[fid])}\n",
    "    opt_loc = {f'x{idx}' : x for idx, x in enumerate(opt_locs.iloc[fid][:dim])}\n",
    "    dt_perf_sub = dt_perf[(dt_perf['kind'] == 'Affine') & (dt_perf['fid'] == fid) & (dt_perf['dim'] == dim)]\n",
    "    perf_dict = {x:y for x,y in zip(dt_perf_sub['ID'], dt_perf_sub['auc'])}\n",
    "\n",
    "    dict_all = {}\n",
    "    dict_all.update(ela_dict)\n",
    "    dict_all.update(weight_dict)\n",
    "    dict_all.update(iid_values)\n",
    "    dict_all.update(opt_loc)\n",
    "    dict_all.update(perf_dict)\n",
    "    \n",
    "    dt =  pd.DataFrame.from_records([dict_all.values()], columns=dict_all.keys())\n",
    "    dt['fid'] = fid\n",
    "    dt['dim'] = dim\n",
    "    return dt"
   ]
  },
  {
   "cell_type": "code",
   "execution_count": null,
   "id": "18d6bb21-b168-4708-9fdf-b5d018b7fd99",
   "metadata": {},
   "outputs": [],
   "source": [
    "def get_all_info_bbob(fid, iid, dim):\n",
    "    ela_dict = dict(dt_ela[dt_ela['fid'] == f\"F{fid}_I{iid}_{dim}D\"][relevant_columns].iloc[0])\n",
    "    weight_dict = {f'W{idx}' : float(idx == fid-1) for idx in range(24)}\n",
    "    iid_values = {f'I{idx}' : iid for idx, x in enumerate(iids.iloc[fid])}\n",
    "    opt_loc = {f'x{idx}' : x for idx, x in enumerate(ioh.get_problem(fid, iid, dim).optimum.x)}\n",
    "    dt_perf_sub = dt_perf[(dt_perf['kind'] == 'BBOB') & (dt_perf['fid'] == fid) & (dt_perf['dim'] == dim) & (dt_perf['iid'] == iid)]\n",
    "    perf_dict = {x:y for x,y in zip(dt_perf_sub['ID'], dt_perf_sub['auc'])}\n",
    "\n",
    "    dict_all = {}\n",
    "    dict_all.update(ela_dict)\n",
    "    dict_all.update(weight_dict)\n",
    "    dict_all.update(iid_values)\n",
    "    dict_all.update(opt_loc)\n",
    "    dict_all.update(perf_dict)\n",
    "    \n",
    "    dt =  pd.DataFrame.from_records([dict_all.values()], columns=dict_all.keys())\n",
    "    dt['fid'] = fid\n",
    "    dt['dim'] = dim\n",
    "    return dt"
   ]
  },
  {
   "cell_type": "code",
   "execution_count": null,
   "id": "410bc0df-16e3-46ae-aeea-e98fb6749528",
   "metadata": {},
   "outputs": [],
   "source": [
    "dt_all_2d = pd.DataFrame()\n",
    "for fid in range(1000):\n",
    "    dt_all_2d = dt_all_2d.append(get_all_info_affine(fid, 2))\n",
    "for fid in range(1,25):\n",
    "    for iid in range(1,6):\n",
    "        dt_all_2d = dt_all_2d.append(get_all_info_bbob(fid, iid, 2))\n"
   ]
  },
  {
   "cell_type": "code",
   "execution_count": null,
   "id": "4c3e4dc9-160f-4bb3-8da3-02a94f316135",
   "metadata": {},
   "outputs": [],
   "source": [
    "dt_all_5d = pd.DataFrame()\n",
    "for fid in range(1000):\n",
    "    dt_all_5d = dt_all_5d.append(get_all_info_affine(fid, 5))\n",
    "for fid in range(1,25):\n",
    "    for iid in range(1,6):\n",
    "        dt_all_5d = dt_all_5d.append(get_all_info_bbob(fid, iid, 5))\n"
   ]
  },
  {
   "cell_type": "code",
   "execution_count": null,
   "id": "c9d67bb2-2a59-4ce4-80f2-b86ccdf2fdb2",
   "metadata": {},
   "outputs": [],
   "source": [
    "dt_all_2d.to_csv(\"All_2d_info2.csv\")\n",
    "dt_all_5d.to_csv(\"All_5d_info2.csv\")"
   ]
  },
  {
   "cell_type": "markdown",
   "id": "190044bb-343b-46e5-a062-653c9a991cf1",
   "metadata": {
    "tags": []
   },
   "source": [
    "### Load"
   ]
  },
  {
   "cell_type": "code",
   "execution_count": null,
   "id": "9d84f34e-9ff2-4c50-a9b7-223f157d9f5f",
   "metadata": {},
   "outputs": [],
   "source": [
    "dt_all_2d = pd.read_csv(\"All_2d_info.csv\", index_col=0)\n",
    "dt_all_5d = pd.read_csv(\"All_5d_info.csv\", index_col=0)"
   ]
  },
  {
   "cell_type": "code",
   "execution_count": null,
   "id": "57e30fa9-c04d-404b-8462-16ae8dabb343",
   "metadata": {},
   "outputs": [],
   "source": [
    "algs = ['DiagonalCMA', 'DifferentialEvolution', 'modcma',\n",
    "       'modde', 'RCobyla']"
   ]
  },
  {
   "cell_type": "code",
   "execution_count": null,
   "id": "a34669e9-78c3-443d-b67b-c4f26c588d9b",
   "metadata": {},
   "outputs": [],
   "source": [
    "best_algs = [algs[x] for x in np.array(dt_all_2d[algs]).argmax(axis=1)]\n",
    "dt_all_2d['best'] = best_algs\n",
    "best_algs = [algs[x] for x in np.array(dt_all_5d[algs]).argmax(axis=1)]\n",
    "dt_all_5d['best'] = best_algs"
   ]
  },
  {
   "cell_type": "markdown",
   "id": "b20eebc9-632b-45a9-b29e-ed78b11323ff",
   "metadata": {
    "tags": []
   },
   "source": [
    "### ELA plot distribution (Violins)"
   ]
  },
  {
   "cell_type": "code",
   "execution_count": null,
   "id": "85a8e448-0b91-4216-a6ee-6d5f2c29b3c6",
   "metadata": {},
   "outputs": [],
   "source": [
    "ela_features = ['ela_meta.lin_simple.adj_r2', 'ela_meta.lin_simple.intercept',\n",
    "       'ela_meta.lin_simple.coef.min', 'ela_meta.lin_simple.coef.max',\n",
    "       'ela_meta.lin_simple.coef.max_by_min', 'ela_meta.lin_w_interact.adj_r2',\n",
    "       'ela_meta.quad_simple.adj_r2', 'ela_meta.quad_simple.cond',\n",
    "       'ela_meta.quad_w_interact.adj_r2', 'ela_distr.skewness',\n",
    "       'ela_distr.kurtosis', 'ela_distr.number_of_peaks',\n",
    "       'ela_level.mmce_lda_10', 'ela_level.mmce_qda_10',\n",
    "       'ela_level.lda_qda_10', 'ela_level.mmce_lda_25',\n",
    "       'ela_level.mmce_qda_25', \n",
    "       'ela_level.mmce_lda_50', 'ela_level.mmce_qda_50',\n",
    "       'ela_level.lda_qda_50',  'nbc.nn_nb.sd_ratio',\n",
    "       'nbc.nn_nb.mean_ratio', 'nbc.nn_nb.cor', 'nbc.dist_ratio.coeff_var',\n",
    "       'nbc.nb_fitness.cor', 'disp.ratio_mean_02', 'disp.ratio_mean_05',\n",
    "       'disp.ratio_mean_10', 'disp.ratio_mean_25', 'disp.ratio_median_02',\n",
    "       'disp.ratio_median_05', 'disp.ratio_median_10', 'disp.ratio_median_25',\n",
    "       'disp.diff_mean_02', 'disp.diff_mean_05', 'disp.diff_mean_10',\n",
    "       'disp.diff_mean_25', 'disp.diff_median_02', 'disp.diff_median_05',\n",
    "       'disp.diff_median_10', 'disp.diff_median_25', 'ic.h_max', 'ic.eps_s',\n",
    "       'ic.m0']"
   ]
  },
  {
   "cell_type": "code",
   "execution_count": null,
   "id": "abf01078-8ddb-4e3f-a615-0b7252984015",
   "metadata": {},
   "outputs": [],
   "source": [
    "dt_temp = dt_all_5d[ela_features + ['kind', 'fid', 'dim']]"
   ]
  },
  {
   "cell_type": "code",
   "execution_count": null,
   "id": "9458c2e7-d1b9-4b0d-8b00-ced87a1030bf",
   "metadata": {},
   "outputs": [],
   "source": [
    "dt_temp[ela_features] = (dt_temp[ela_features] - dt_temp[ela_features].min()) / ( dt_temp[ela_features].max() -  dt_temp[ela_features].min())"
   ]
  },
  {
   "cell_type": "code",
   "execution_count": null,
   "id": "0c1756c3-3336-47ae-818e-15a37169a63a",
   "metadata": {},
   "outputs": [],
   "source": [
    "dt_molten = dt_temp.melt(id_vars=['kind', 'fid', 'dim'])"
   ]
  },
  {
   "cell_type": "code",
   "execution_count": null,
   "id": "2aa49f52-ac5a-4d82-83dc-893c8ac3cf5b",
   "metadata": {},
   "outputs": [],
   "source": [
    "dt_molten"
   ]
  },
  {
   "cell_type": "code",
   "execution_count": null,
   "id": "51f554f4-3805-4736-ab84-85ee321eac2a",
   "metadata": {},
   "outputs": [],
   "source": [
    "plt.figure(figsize=(32,9))\n",
    "sbs.violinplot(dt_molten, x='variable', y='value', hue='kind', split=True, cut=0, inner='quartile')\n",
    "plt.ylim(0,1)\n",
    "plt.xticks(rotation=30, fontsize=14)\n",
    "plt.tight_layout()\n",
    "plt.savefig(\"Figures/ELA_Feature_violins_5D_normalized.pdf\")"
   ]
  },
  {
   "cell_type": "markdown",
   "id": "c90db39b-63b4-4499-bedd-a8d7e1c1cf37",
   "metadata": {
    "tags": []
   },
   "source": [
    "### ELA plot (UMAP)"
   ]
  },
  {
   "cell_type": "code",
   "execution_count": null,
   "id": "a918e670-8dff-4fcc-a3f3-289a86d6e218",
   "metadata": {},
   "outputs": [],
   "source": [
    "def create_ELA_Map(dim, hue_var = 'kind', marker_var = 'kind', normalization=None):\n",
    "    np.random.seed(42)\n",
    "    if dim == 2:\n",
    "        dt_dim = copy(dt_all_2d)\n",
    "    else:\n",
    "        dt_dim = copy(dt_all_5d)\n",
    "    if normalization == 'normalize':\n",
    "        dt_dim[ela_features] = (dt_dim[ela_features] - dt_dim[ela_features].min()) / ( dt_dim[ela_features].max() -  dt_dim[ela_features].min())\n",
    "    if normalization == 'standardize':\n",
    "        dt_dim[ela_features] = (dt_dim[ela_features] - dt_dim[ela_features].mean()) / dt_dim[ela_features].std()\n",
    "    um = UMAP(random_state=42)\n",
    "    um.fit(X=np.array(dt_dim[dt_dim['kind'] == 'BBOB'][ela_features]))\n",
    "    \n",
    "    transformed = um.transform(dt_dim[ela_features])\n",
    "    \n",
    "    dt_plot = pd.DataFrame(transformed, columns=['x0','x1'])\n",
    "    dt_plot[hue_var] = np.array(dt_dim[hue_var])\n",
    "    dt_plot[marker_var] = np.array(dt_dim[marker_var])\n",
    "\n",
    "    plt.figure(figsize=(16,9))\n",
    "    g = sbs.scatterplot(dt_plot, x='x0', y='x1', hue=hue_var, style=marker_var, s=450, linewidth=0.1, alpha=0.8)\n",
    "    \n",
    "    \n",
    "    for lh in g.legend_.legendHandles: \n",
    "        lh.set_alpha(1)\n",
    "        lh._sizes = [450] \n",
    "    \n",
    "    \n",
    "    plt.tight_layout()\n",
    "    plt.savefig(f\"Figures/ELA_UMAP_{dim}D_{normalization}_{hue_var}.pdf\")"
   ]
  },
  {
   "cell_type": "code",
   "execution_count": null,
   "id": "4f05ee05-f7e8-4252-82aa-094fc2284a3a",
   "metadata": {},
   "outputs": [],
   "source": [
    "for i in range(24):\n",
    "    create_ELA_Map(5, normalization=None, hue_var=f'W{i}')"
   ]
  },
  {
   "cell_type": "code",
   "execution_count": null,
   "id": "206dc5ab-3e3b-4640-963e-d3c9d21563fd",
   "metadata": {},
   "outputs": [],
   "source": [
    "for dim in [2,5]:\n",
    "    for norm in [None, 'normalize', 'standardize']:\n",
    "        for hue_var in ['best', 'kind']:\n",
    "            create_ELA_Map(dim, normalization=norm, hue_var=hue_var)"
   ]
  },
  {
   "cell_type": "markdown",
   "id": "f5627d5a-ec95-4653-89ea-7093e72f3e05",
   "metadata": {},
   "source": [
    "### RF models"
   ]
  },
  {
   "cell_type": "code",
   "execution_count": null,
   "id": "6f7cac6e-0192-4646-80b5-40ffda33fa67",
   "metadata": {},
   "outputs": [],
   "source": [
    "from sklearn.ensemble import RandomForestRegressor, RandomForestClassifier"
   ]
  },
  {
   "cell_type": "code",
   "execution_count": null,
   "id": "d9c0b68a-1a6d-47e2-98d4-b220bbbbb066",
   "metadata": {},
   "outputs": [],
   "source": [
    "from sklearn.model_selection import cross_val_score"
   ]
  },
  {
   "cell_type": "code",
   "execution_count": null,
   "id": "28bdf4bc-4e5a-40ee-8adb-20024bcd20d6",
   "metadata": {},
   "outputs": [],
   "source": [
    "import sklearn"
   ]
  },
  {
   "cell_type": "code",
   "execution_count": null,
   "id": "f9591fcc-62d5-4799-9ca9-263731263e0e",
   "metadata": {},
   "outputs": [],
   "source": [
    "def get_rf_score(dim, target, input_vars = 'ela', normalization = None):\n",
    "    if dim == 2:\n",
    "        dt_dim = copy(dt_all_2d)\n",
    "    else:\n",
    "        dt_dim = copy(dt_all_5d)\n",
    "    if normalization == 'normalize':\n",
    "        dt_dim[ela_features] = (dt_dim[ela_features] - dt_dim[ela_features].min()) / ( dt_dim[ela_features].max() -  dt_dim[ela_features].min())\n",
    "    if normalization == 'standardize':\n",
    "        dt_dim[ela_features] = (dt_dim[ela_features] - dt_dim[ela_features].mean()) / dt_dim[ela_features].std()\n",
    "    \n",
    "    if input_vars == 'ela':\n",
    "        X = np.array(dt_dim[ela_features])\n",
    "    else:\n",
    "        X = np.array(dt_dim[[f'W{x}' for x in range(24)]])\n",
    "\n",
    "    Y = np.array(dt_dim[target])\n",
    "    if target == 'best':\n",
    "        rf_model = RandomForestClassifier()\n",
    "        scoring='f1_weighted'\n",
    "    else:\n",
    "        rf_model = RandomForestRegressor()\n",
    "        scoring='neg_mean_absolute_error'\n",
    "    \n",
    "    \n",
    "    res = cross_val_score(rf_model, X, Y, cv=10, scoring=scoring)\n",
    "    return np.mean(res)"
   ]
  },
  {
   "cell_type": "code",
   "execution_count": null,
   "id": "bf92e8bd-0dae-42c1-a987-612cc931ed4b",
   "metadata": {},
   "outputs": [],
   "source": [
    "items = []\n",
    "for dim in [2,5]:\n",
    "    for target in ['best'] + algs:\n",
    "        for input_var in ['ela', 'weights']:\n",
    "            res = get_rf_score(dim, target, input_var)\n",
    "            items.append([res, dim, target, input_var])"
   ]
  },
  {
   "cell_type": "code",
   "execution_count": null,
   "id": "304a242f-c5a7-4958-bc4f-e85e28611768",
   "metadata": {},
   "outputs": [],
   "source": [
    "dt_rf_overall = pd.DataFrame.from_records(items, columns=['res', 'dim', 'target', 'input_var'])"
   ]
  },
  {
   "cell_type": "code",
   "execution_count": null,
   "id": "f3232ab8-9fbc-4d93-9c04-6dccc9bae12c",
   "metadata": {},
   "outputs": [],
   "source": [
    "def get_rf_score_generalize(dim, target, input_vars = 'ela'):\n",
    "    if dim == 2:\n",
    "        dt_dim = copy(dt_all_2d)\n",
    "    else:\n",
    "        dt_dim = copy(dt_all_5d)\n",
    "    \n",
    "    if input_vars == 'ela':\n",
    "        X = np.array(dt_dim[ela_features])\n",
    "    else:\n",
    "        X = np.array(dt_dim[[f'W{x}' for x in range(24)]])\n",
    "\n",
    "    Y = np.array(dt_dim[target])\n",
    "    if target == 'best':\n",
    "        rf_model = RandomForestClassifier()\n",
    "        scoring=partial(f1_score, average='weighted')\n",
    "    else:\n",
    "        rf_model = RandomForestRegressor()\n",
    "        scoring=mean_absolute_error\n",
    "    \n",
    "    rf_model.fit(X[dt_dim['kind'] == 'BBOB'], Y[dt_dim['kind'] == 'BBOB'])\n",
    "    preds = rf_model.predict(X[dt_dim['kind'] == 'Affine'])\n",
    "    \n",
    "    return scoring(preds, Y[dt_dim['kind'] == 'Affine'])\n",
    "    "
   ]
  },
  {
   "cell_type": "code",
   "execution_count": null,
   "id": "c3aced9a-ec10-4ec8-b20a-ba15aead530a",
   "metadata": {},
   "outputs": [],
   "source": [
    "from sklearn.metrics import mean_absolute_error, f1_score"
   ]
  },
  {
   "cell_type": "code",
   "execution_count": null,
   "id": "c2dc9220-18ae-4133-b3b6-f40ca025d948",
   "metadata": {},
   "outputs": [],
   "source": [
    "items = []\n",
    "for dim in [2,5]:\n",
    "    for target in ['best'] + algs:\n",
    "        for input_var in ['ela', 'weights']:\n",
    "            res = get_rf_score_generalize(dim, target, input_var)\n",
    "            items.append([res, dim, target, input_var])"
   ]
  },
  {
   "cell_type": "code",
   "execution_count": null,
   "id": "5081d887-c762-43bd-9225-ec41515659a4",
   "metadata": {},
   "outputs": [],
   "source": [
    "dt_rf_generalize = pd.DataFrame.from_records(items, columns=['generalization', 'dim', 'target', 'input_var'])"
   ]
  },
  {
   "cell_type": "code",
   "execution_count": null,
   "id": "d43dbba1-a8e5-439e-b8f8-d5c1ba35b131",
   "metadata": {},
   "outputs": [],
   "source": [
    "dt_combined_rf = dt_rf_generalize.merge(dt_rf_overall).reset_index()"
   ]
  },
  {
   "cell_type": "code",
   "execution_count": null,
   "id": "40ea3359-4360-4806-8702-64c84a553e2e",
   "metadata": {},
   "outputs": [],
   "source": [
    "dt_combined_rf['res'] = np.abs(dt_combined_rf['res'])"
   ]
  },
  {
   "cell_type": "code",
   "execution_count": null,
   "id": "94643167-f376-44c0-a9ab-9b16c3633653",
   "metadata": {},
   "outputs": [],
   "source": [
    "dt_combined_rf[dt_combined_rf['target'] == 'best']"
   ]
  },
  {
   "cell_type": "code",
   "execution_count": null,
   "id": "d34aed46-4972-4c90-b6f8-bc29e00c4dd6",
   "metadata": {},
   "outputs": [],
   "source": [
    "dt_combined_rf[dt_combined_rf['target'] == 'best']"
   ]
  },
  {
   "cell_type": "code",
   "execution_count": null,
   "id": "42584d7c-669a-4843-8ee1-a86fcedbbe84",
   "metadata": {},
   "outputs": [],
   "source": [
    "dt_table = dt_combined_rf[dt_combined_rf['target'] != 'best']"
   ]
  },
  {
   "cell_type": "code",
   "execution_count": null,
   "id": "44bf6fda-d648-489a-ad44-6a2e7232e079",
   "metadata": {},
   "outputs": [],
   "source": [
    "res_table = np.zeros((4,10))"
   ]
  },
  {
   "cell_type": "code",
   "execution_count": null,
   "id": "2465cf6a-575d-4260-a573-2720406bdb0a",
   "metadata": {},
   "outputs": [],
   "source": [
    "for idx1, input_var in enumerate(['ela', 'weights']):\n",
    "    for idx2, method in enumerate(['overall', 'generalize']):\n",
    "        for idx3, alg in enumerate(algs):\n",
    "            for idx4, dim in enumerate([2, 5]):\n",
    "                val = dt_table[(dt_table['dim'] == dim) & (dt_table['target'] == alg) \n",
    "                               & (dt_table['input_var'] == input_var)]\n",
    "                res_table[idx1+2*idx2, idx3+5*idx4] = val[['res', 'generalization'][idx2]]"
   ]
  },
  {
   "cell_type": "code",
   "execution_count": null,
   "id": "71565b68-7a44-4469-a02c-68630a520000",
   "metadata": {},
   "outputs": [],
   "source": [
    "algs_short = ['dCMA', 'DE', 'modCMA', 'modDE', 'Cobyla']"
   ]
  },
  {
   "cell_type": "code",
   "execution_count": null,
   "id": "7ddbefc0-236d-4c41-93ef-aee601222c44",
   "metadata": {},
   "outputs": [],
   "source": [
    "fig, ax = plt.subplots(figsize=(16,9))\n",
    "im = sbs.heatmap(res_table, ax=ax, vmin=0, vmax = 0.3, cbar_kws = dict(pad=0.01), cmap='viridis')\n",
    "ax.set_yticks([x+0.5 for x in range(4)], ['ELA', 'Weights', 'ELA', 'Weights'], fontsize=20, rotation=0)\n",
    "ax.set_xticks([0.5+x for x in range(10)], algs_short + algs_short, fontsize=23, rotation=-30)\n",
    "plt.axhline(2, c='k', lw=4, ls='--')\n",
    "plt.axvline(5, c='k', lw=4, ls='--')\n",
    "plt.tight_layout()\n",
    "plt.savefig(\"Figures/RF_MAE_algs_ELA_vs_Weights.pdf\")"
   ]
  },
  {
   "cell_type": "markdown",
   "id": "6124d0d1-0019-4465-b9bd-b2d03837d5f5",
   "metadata": {},
   "source": [
    "### Algorithm selector loss"
   ]
  },
  {
   "cell_type": "code",
   "execution_count": null,
   "id": "099405c8-1ebd-411a-b4db-c4ffc280570a",
   "metadata": {},
   "outputs": [],
   "source": [
    "from sklearn.model_selection import cross_val_predict\n",
    "from sklearn.metrics import f1_score"
   ]
  },
  {
   "cell_type": "code",
   "execution_count": null,
   "id": "1a37c606-dca2-4d5c-9a6d-b762dd7c94b3",
   "metadata": {},
   "outputs": [],
   "source": [
    "def get_rf_losses(dim, target, version = 'generalize', input_vars = 'ela'):\n",
    "    if dim == 2:\n",
    "        dt_dim = copy(dt_all_2d)\n",
    "    else:\n",
    "        dt_dim = copy(dt_all_5d)\n",
    "    \n",
    "    if input_vars == 'ela':\n",
    "        X = np.array(dt_dim[ela_features])\n",
    "    else:\n",
    "        X = np.array(dt_dim[[f'W{x}' for x in range(24)]])\n",
    "\n",
    "    Y = np.array(dt_dim[target])\n",
    "    if target == 'best':\n",
    "        rf_model = RandomForestClassifier()\n",
    "        scoring=partial(f1_score, average='weighted')\n",
    "    else:\n",
    "        rf_model = RandomForestRegressor()\n",
    "        scoring=mean_absolute_error\n",
    "    \n",
    "    if version == 'generalize':\n",
    "        rf_model.fit(X[dt_dim['kind'] == 'BBOB'], Y[dt_dim['kind'] == 'BBOB'])\n",
    "        preds = rf_model.predict(X[dt_dim['kind'] == 'Affine'])\n",
    "        dt_part = dt_dim[dt_dim['kind'] == 'Affine']\n",
    "    else:\n",
    "        preds = cross_val_predict(rf_model, X, Y, cv=10)\n",
    "        dt_part = dt_dim\n",
    "    # print(preds)\n",
    "    pred_vals = np.array([dt_part.iloc[x][y] for x,y in enumerate(preds)])\n",
    "    vbs_val = np.max(dt_part[algs], axis=1)\n",
    "    \n",
    "    return  vbs_val - pred_vals\n",
    "    "
   ]
  },
  {
   "cell_type": "code",
   "execution_count": null,
   "id": "53124c37-f73c-4422-a8cc-7a9379b0ffe2",
   "metadata": {},
   "outputs": [],
   "source": [
    "rf_model = RandomForestClassifier()"
   ]
  },
  {
   "cell_type": "code",
   "execution_count": null,
   "id": "c755660f-5fd5-46cd-9ccc-51cee9304266",
   "metadata": {},
   "outputs": [],
   "source": [
    "preds = cross_val_predict(rf_model, X, Y, cv=10)"
   ]
  },
  {
   "cell_type": "code",
   "execution_count": null,
   "id": "572a7083-d710-4f8e-851f-50186d43a96a",
   "metadata": {},
   "outputs": [],
   "source": [
    "pred_vals = [dt_all_2d.iloc[x][y] for x,y in enumerate(preds)]"
   ]
  },
  {
   "cell_type": "code",
   "execution_count": null,
   "id": "cf1d3496-7809-4052-86c8-6d2695128624",
   "metadata": {},
   "outputs": [],
   "source": [
    "vbs_val = np.mean(np.max(dt_all_2d[algs], axis=1))"
   ]
  },
  {
   "cell_type": "code",
   "execution_count": null,
   "id": "1e4fbbeb-56b3-4a0e-bb13-fe428f8480a9",
   "metadata": {},
   "outputs": [],
   "source": [
    "np.mean(pred_vals) - vbs_val"
   ]
  },
  {
   "cell_type": "code",
   "execution_count": null,
   "id": "a915eeff-78e0-40e4-b5b0-70f5d9e18b4d",
   "metadata": {},
   "outputs": [],
   "source": [
    "items = []\n",
    "for dim in [2,5]:\n",
    "    # for target in ['best'] + algs:\n",
    "    for input_var in ['ela', 'weights']:\n",
    "        for version in ['generalize', 'cv']:\n",
    "            res = get_rf_losses(dim, 'best', version, input_var)\n",
    "            for r in res:\n",
    "                items.append([r, dim, 'best', input_var, version])"
   ]
  },
  {
   "cell_type": "code",
   "execution_count": null,
   "id": "01ccfc7c-a34b-4d8d-aa61-3e937c2f0a52",
   "metadata": {},
   "outputs": [],
   "source": [
    "dt_rf_loss = pd.DataFrame.from_records(items, columns=['loss', 'dim', 'target', 'input_var', 'version'])"
   ]
  },
  {
   "cell_type": "code",
   "execution_count": null,
   "id": "7fd8c90b-311d-491a-aca7-f52b6570c19e",
   "metadata": {},
   "outputs": [],
   "source": [
    "plt.figure(figsize=(16,9))\n",
    "sbs.violinplot(dt_rf_loss, x='loss', y='version', hue='input_var', split=True, cut=0, inner='quartile')\n",
    "plt.legend(title='Feature Used')\n",
    "plt.tight_layout()\n",
    "plt.savefig(\"Figures/AS_Model_losses.pdf\")"
   ]
  },
  {
   "cell_type": "code",
   "execution_count": null,
   "id": "3402cd0d-0259-438f-a3e0-7e0aaf3bc13b",
   "metadata": {},
   "outputs": [],
   "source": [
    "plt.figure(figsize=(16,9))\n",
    "sbs.ecdfplot(dt_rf_loss, x='loss', hue=dt_rf_loss[['input_var', 'version']].apply(tuple, axis=1), lw=5, alpha=0.8)#, ls='dim')\n",
    "# plt.legend(title='Feature Used')\n",
    "plt.ylim(0.4,1)\n",
    "plt.tight_layout()\n",
    "plt.savefig(\"Figures/AS_Model_losses_cumulative2.pdf\")"
   ]
  },
  {
   "cell_type": "code",
   "execution_count": null,
   "id": "573229b5-d4a2-4442-a4fb-ecd222e5d2e8",
   "metadata": {},
   "outputs": [],
   "source": []
  }
 ],
 "metadata": {
  "kernelspec": {
   "display_name": "Python 3 (ipykernel)",
   "language": "python",
   "name": "python3"
  },
  "language_info": {
   "codemirror_mode": {
    "name": "ipython",
    "version": 3
   },
   "file_extension": ".py",
   "mimetype": "text/x-python",
   "name": "python",
   "nbconvert_exporter": "python",
   "pygments_lexer": "ipython3",
   "version": "3.8.10"
  }
 },
 "nbformat": 4,
 "nbformat_minor": 5
}
